{
 "cells": [
  {
   "cell_type": "markdown",
   "id": "e367861c",
   "metadata": {},
   "source": [
    "<div style=\"direction:rtl;line-height:300%;background-color:#282C34;border-radius: 25px;\">\n",
    "\t<img src='https://ut.ac.ir/assets/d7a19645/images/logos/loading-logo.png' alt=\"UT logo\" width=\"110\" height=\"110\" align=\"left\" style='padding-top: 15px; padding-left: 20px;'>\n",
    "\t<img src=\"https://engstudent.ut.ac.ir/wp-content/uploads/Fanni-Transparent.png\" width=\"150\" height=\"112\" align=\"right\" style='padding-top: 15px; padding-right: 20px;'>\n",
    "\t<font face=\"XB Zar\" size=5>\n",
    "\t\t<div align=center>\n",
    "\t\t\t<font face=\"IranNastaliq\" size=30 color=white>\n",
    "\t\t\t\t<p></p>\n",
    "\t\t\t\t<p></p>\n",
    "به نام خدا\n",
    "\t\t\t</font>\n",
    "\t\t\t<br />\n",
    "\t\t\t<br />\n",
    "\t\t\t<font color=#1597E5>\n",
    "دانشگاه تهران - دانشکده مهندسی برق و کامپیوتر\n",
    "            </font>\n",
    "            <br />\n",
    "\t\t\t<font color=#69DADB>\n",
    "هوش مصنوعی\n",
    "            </font>\n",
    "\t\t\t<br />\n",
    "\t\t\t<font color=#FFA400>\n",
    "پاییز ۱۴۰۰\n",
    "\t\t</div>\n",
    "\t\t<hr color=#6ECB63/>\n",
    "\t\t<font color=#FF5C58 size=6>\n",
    "\t\t\t<div align=center>\n",
    "پروژه سوم - Naïve Bayes\n",
    "            </div>\n",
    "\t\t</font>\n",
    "        <br />\n",
    "\t\t<div align=center>\n",
    "\t\t<font color=yellow>\n",
    "حسام اسداله‌زاده \n",
    "            <br />\n",
    "            شماره دانشجویی: ۸۱۰۱۹۸۳۴۶\n",
    "\t\t\t</font>\n",
    "        </div>\n",
    "\t\t<!hr color=#6ECB63/>\n",
    "\t\t<style type=\"text/css\" scoped>\n",
    "        p{\n",
    "        border: 1px solid #a2a9b1;background-color: #f8f9fa;display: inline-block;\n",
    "        };\n",
    "        </style>            \n",
    "\t\t\n",
    "</div>"
   ]
  },
  {
   "cell_type": "code",
   "execution_count": 1,
   "id": "b956f33c",
   "metadata": {},
   "outputs": [],
   "source": [
    "import parsivar\n",
    "import hazm\n",
    "import arabic_reshaper\n",
    "from bidi.algorithm import get_display\n",
    "import pandas as pd\n",
    "import numpy as np\n",
    "from matplotlib import pyplot as plt"
   ]
  },
  {
   "cell_type": "code",
   "execution_count": 2,
   "id": "1af4788e",
   "metadata": {},
   "outputs": [
    {
     "data": {
      "text/html": [
       "<div>\n",
       "<style scoped>\n",
       "    .dataframe tbody tr th:only-of-type {\n",
       "        vertical-align: middle;\n",
       "    }\n",
       "\n",
       "    .dataframe tbody tr th {\n",
       "        vertical-align: top;\n",
       "    }\n",
       "\n",
       "    .dataframe thead th {\n",
       "        text-align: right;\n",
       "    }\n",
       "</style>\n",
       "<table border=\"1\" class=\"dataframe\">\n",
       "  <thead>\n",
       "    <tr style=\"text-align: right;\">\n",
       "      <th></th>\n",
       "      <th>title</th>\n",
       "      <th>description</th>\n",
       "      <th>categories</th>\n",
       "    </tr>\n",
       "  </thead>\n",
       "  <tbody>\n",
       "    <tr>\n",
       "      <th>0</th>\n",
       "      <td>بلبل خرمایی</td>\n",
       "      <td>سه عدد بلبل خرمایی سه ماهه.از وقتی جوجه بودن خ...</td>\n",
       "      <td>leisure-hobbies</td>\n",
       "    </tr>\n",
       "    <tr>\n",
       "      <th>1</th>\n",
       "      <td>عینک اسکی در حد</td>\n",
       "      <td>عینک اسکی دبل لنز مارک يو وكس  در حد نو اصلی م...</td>\n",
       "      <td>leisure-hobbies</td>\n",
       "    </tr>\n",
       "    <tr>\n",
       "      <th>2</th>\n",
       "      <td>تکیه سر تویوتا پرادو</td>\n",
       "      <td>پارچه ای سالم و تمیز.</td>\n",
       "      <td>vehicles</td>\n",
       "    </tr>\n",
       "    <tr>\n",
       "      <th>3</th>\n",
       "      <td>مجسمه کریستال24%</td>\n",
       "      <td>مجسمه دکوری کریستال بالرین Rcr24%</td>\n",
       "      <td>for-the-home</td>\n",
       "    </tr>\n",
       "    <tr>\n",
       "      <th>4</th>\n",
       "      <td>کیف و ساک</td>\n",
       "      <td>هر 2 کاملا تمیز هستند</td>\n",
       "      <td>personal</td>\n",
       "    </tr>\n",
       "  </tbody>\n",
       "</table>\n",
       "</div>"
      ],
      "text/plain": [
       "                  title                                        description  \\\n",
       "0           بلبل خرمایی  سه عدد بلبل خرمایی سه ماهه.از وقتی جوجه بودن خ...   \n",
       "1       عینک اسکی در حد  عینک اسکی دبل لنز مارک يو وكس  در حد نو اصلی م...   \n",
       "2  تکیه سر تویوتا پرادو                              پارچه ای سالم و تمیز.   \n",
       "3      مجسمه کریستال24%                  مجسمه دکوری کریستال بالرین Rcr24%   \n",
       "4             کیف و ساک                              هر 2 کاملا تمیز هستند   \n",
       "\n",
       "        categories  \n",
       "0  leisure-hobbies  \n",
       "1  leisure-hobbies  \n",
       "2         vehicles  \n",
       "3     for-the-home  \n",
       "4         personal  "
      ]
     },
     "execution_count": 2,
     "metadata": {},
     "output_type": "execute_result"
    }
   ],
   "source": [
    "traindf = pd.read_csv('divar_train.csv')\n",
    "traindf.head()"
   ]
  },
  {
   "cell_type": "code",
   "execution_count": 3,
   "id": "73a04981",
   "metadata": {},
   "outputs": [
    {
     "name": "stdout",
     "output_type": "stream",
     "text": [
      "<class 'pandas.core.frame.DataFrame'>\n",
      "RangeIndex: 10200 entries, 0 to 10199\n",
      "Data columns (total 3 columns):\n",
      " #   Column       Non-Null Count  Dtype \n",
      "---  ------       --------------  ----- \n",
      " 0   title        10200 non-null  object\n",
      " 1   description  10200 non-null  object\n",
      " 2   categories   10200 non-null  object\n",
      "dtypes: object(3)\n",
      "memory usage: 239.2+ KB\n"
     ]
    }
   ],
   "source": [
    "traindf.info()"
   ]
  },
  {
   "cell_type": "code",
   "execution_count": 4,
   "id": "4cbbee0a",
   "metadata": {},
   "outputs": [
    {
     "data": {
      "text/html": [
       "<div>\n",
       "<style scoped>\n",
       "    .dataframe tbody tr th:only-of-type {\n",
       "        vertical-align: middle;\n",
       "    }\n",
       "\n",
       "    .dataframe tbody tr th {\n",
       "        vertical-align: top;\n",
       "    }\n",
       "\n",
       "    .dataframe thead th {\n",
       "        text-align: right;\n",
       "    }\n",
       "</style>\n",
       "<table border=\"1\" class=\"dataframe\">\n",
       "  <thead>\n",
       "    <tr style=\"text-align: right;\">\n",
       "      <th></th>\n",
       "      <th>title</th>\n",
       "      <th>description</th>\n",
       "      <th>categories</th>\n",
       "    </tr>\n",
       "  </thead>\n",
       "  <tbody>\n",
       "    <tr>\n",
       "      <th>0</th>\n",
       "      <td>کیف مجلسی نو</td>\n",
       "      <td>کیف مجلسی نوی نو</td>\n",
       "      <td>personal</td>\n",
       "    </tr>\n",
       "    <tr>\n",
       "      <th>1</th>\n",
       "      <td>دیوار کوب نمدی تزیینی</td>\n",
       "      <td>مناسب برای جهاز عروس</td>\n",
       "      <td>for-the-home</td>\n",
       "    </tr>\n",
       "    <tr>\n",
       "      <th>2</th>\n",
       "      <td>دو تیکه بسیار بسیار تمیز و سالم</td>\n",
       "      <td>با کشوی مخفی و شیک</td>\n",
       "      <td>for-the-home</td>\n",
       "    </tr>\n",
       "    <tr>\n",
       "      <th>3</th>\n",
       "      <td>مودم</td>\n",
       "      <td>سلام مودم سالم با وسایلش،دیگه ب کارم نمیاد \\nم...</td>\n",
       "      <td>electronic-devices</td>\n",
       "    </tr>\n",
       "    <tr>\n",
       "      <th>4</th>\n",
       "      <td>تعداد18عددبوقلمون به قیمت عمده</td>\n",
       "      <td>سلام تعدای بوقلمون دارم به علت جابه جایی به فر...</td>\n",
       "      <td>leisure-hobbies</td>\n",
       "    </tr>\n",
       "  </tbody>\n",
       "</table>\n",
       "</div>"
      ],
      "text/plain": [
       "                             title  \\\n",
       "0                     کیف مجلسی نو   \n",
       "1            دیوار کوب نمدی تزیینی   \n",
       "2  دو تیکه بسیار بسیار تمیز و سالم   \n",
       "3                             مودم   \n",
       "4   تعداد18عددبوقلمون به قیمت عمده   \n",
       "\n",
       "                                         description          categories  \n",
       "0                                   کیف مجلسی نوی نو            personal  \n",
       "1                               مناسب برای جهاز عروس        for-the-home  \n",
       "2                                 با کشوی مخفی و شیک        for-the-home  \n",
       "3  سلام مودم سالم با وسایلش،دیگه ب کارم نمیاد \\nم...  electronic-devices  \n",
       "4  سلام تعدای بوقلمون دارم به علت جابه جایی به فر...     leisure-hobbies  "
      ]
     },
     "execution_count": 4,
     "metadata": {},
     "output_type": "execute_result"
    }
   ],
   "source": [
    "testdf = pd.read_csv('divar_test.csv')\n",
    "testdf.head()"
   ]
  },
  {
   "cell_type": "markdown",
   "id": "f35172a8",
   "metadata": {},
   "source": [
    "## Preprocessing:"
   ]
  },
  {
   "cell_type": "code",
   "execution_count": 5,
   "id": "514992cb",
   "metadata": {},
   "outputs": [],
   "source": [
    "traindf['combined'] = traindf['description'] + ' ' + traindf['title']\n",
    "testdf['combined'] = testdf['description'] + ' ' + testdf['title']"
   ]
  },
  {
   "cell_type": "code",
   "execution_count": 6,
   "id": "5c48e6c8",
   "metadata": {},
   "outputs": [],
   "source": [
    "stemmer = hazm.Stemmer()\n",
    "lemmatizer = hazm.Lemmatizer()\n",
    "normalizer = hazm.Normalizer()\n",
    "mynormalizer = parsivar.Normalizer()\n",
    "mytokenizer = parsivar.Tokenizer()"
   ]
  },
  {
   "cell_type": "code",
   "execution_count": 7,
   "id": "b2cf9dd3",
   "metadata": {},
   "outputs": [],
   "source": [
    "punctuations = '''!()-[]{};:'\"\\,٬٫،<>./?@#$%٪^&*×ـ+=_~.؟؛«»|‌…'''\n",
    "stops = {'فقط', 'قیمت', 'را', 'برای', 'به', 'با','که', 'از', 'در', 'اما','اگر', 'اگه', 'تا', 'هر','و', '.', 'و', 'هم', 'یک'}\n",
    "prob_dict = dict()"
   ]
  },
  {
   "cell_type": "markdown",
   "id": "21a72f69",
   "metadata": {},
   "source": [
    "### Stemming"
   ]
  },
  {
   "cell_type": "code",
   "execution_count": 8,
   "id": "2e1515ab",
   "metadata": {},
   "outputs": [],
   "source": [
    "tokenized_stemmed_df = traindf.copy(deep=True)\n",
    "tokenized_stemmed_df['combined'] = tokenized_stemmed_df['description'] + ' ' + tokenized_stemmed_df['title']\n",
    "tokenized_stemmed_df = tokenized_stemmed_df.drop(columns=['description', 'title'])\n",
    "for i in range(len(tokenized_stemmed_df)):\n",
    "    normed = mynormalizer.normalize(tokenized_stemmed_df['combined'][i])\n",
    "    tokenized_des = hazm.word_tokenize(normed)\n",
    "    tokenized_stemmed_df['combined'][i] = [stemmer.stem(word) for word in tokenized_des if word not in stops and len(word) > 1]"
   ]
  },
  {
   "cell_type": "code",
   "execution_count": 9,
   "id": "dd01cd45",
   "metadata": {},
   "outputs": [
    {
     "data": {
      "text/html": [
       "<div>\n",
       "<style scoped>\n",
       "    .dataframe tbody tr th:only-of-type {\n",
       "        vertical-align: middle;\n",
       "    }\n",
       "\n",
       "    .dataframe tbody tr th {\n",
       "        vertical-align: top;\n",
       "    }\n",
       "\n",
       "    .dataframe thead th {\n",
       "        text-align: right;\n",
       "    }\n",
       "</style>\n",
       "<table border=\"1\" class=\"dataframe\">\n",
       "  <thead>\n",
       "    <tr style=\"text-align: right;\">\n",
       "      <th></th>\n",
       "      <th>categories</th>\n",
       "      <th>combined</th>\n",
       "    </tr>\n",
       "  </thead>\n",
       "  <tbody>\n",
       "    <tr>\n",
       "      <th>0</th>\n",
       "      <td>leisure-hobbies</td>\n",
       "      <td>[سه, عدد, بلبل, خرما, سه, ماهه, وقت, جوجه, بود...</td>\n",
       "    </tr>\n",
       "    <tr>\n",
       "      <th>1</th>\n",
       "      <td>leisure-hobbies</td>\n",
       "      <td>[عینک, اسک, دبل, لنز, مارک, یو, وکس, حد, نو, ا...</td>\n",
       "    </tr>\n",
       "    <tr>\n",
       "      <th>2</th>\n",
       "      <td>vehicles</td>\n",
       "      <td>[پارچه, سال, تمیز, تکیه, سر, تویوتا, پرادو]</td>\n",
       "    </tr>\n",
       "    <tr>\n",
       "      <th>3</th>\n",
       "      <td>for-the-home</td>\n",
       "      <td>[مجسمه, دکور, کریستال, بالرین, Rcr, 24, مجسمه,...</td>\n",
       "    </tr>\n",
       "    <tr>\n",
       "      <th>4</th>\n",
       "      <td>personal</td>\n",
       "      <td>[کاملا, تمیز, هستند, کیف, ساک]</td>\n",
       "    </tr>\n",
       "    <tr>\n",
       "      <th>...</th>\n",
       "      <td>...</td>\n",
       "      <td>...</td>\n",
       "    </tr>\n",
       "    <tr>\n",
       "      <th>10195</th>\n",
       "      <td>vehicles</td>\n",
       "      <td>[نیمه, دو, همه, چ, شرط, حد, خشک, 260, کار, , 85]</td>\n",
       "    </tr>\n",
       "    <tr>\n",
       "      <th>10196</th>\n",
       "      <td>vehicles</td>\n",
       "      <td>[فابریک, حلقه, لاستیک, 205, نو, بیمه, یکسال, ت...</td>\n",
       "    </tr>\n",
       "    <tr>\n",
       "      <th>10197</th>\n",
       "      <td>for-the-home</td>\n",
       "      <td>[بخار, نو, بسیار, تمیز, هست, مشتر, واقع, کنار,...</td>\n",
       "    </tr>\n",
       "    <tr>\n",
       "      <th>10198</th>\n",
       "      <td>leisure-hobbies</td>\n",
       "      <td>[سلا, دلیل, کمبود, جا, واسباب, کش, ک, میفرو, ک...</td>\n",
       "    </tr>\n",
       "    <tr>\n",
       "      <th>10199</th>\n",
       "      <td>vehicles</td>\n",
       "      <td>[پراید, 111, se, سفید, مدل, 93, درب, جلو, سم, ...</td>\n",
       "    </tr>\n",
       "  </tbody>\n",
       "</table>\n",
       "<p>10200 rows × 2 columns</p>\n",
       "</div>"
      ],
      "text/plain": [
       "            categories                                           combined\n",
       "0      leisure-hobbies  [سه, عدد, بلبل, خرما, سه, ماهه, وقت, جوجه, بود...\n",
       "1      leisure-hobbies  [عینک, اسک, دبل, لنز, مارک, یو, وکس, حد, نو, ا...\n",
       "2             vehicles        [پارچه, سال, تمیز, تکیه, سر, تویوتا, پرادو]\n",
       "3         for-the-home  [مجسمه, دکور, کریستال, بالرین, Rcr, 24, مجسمه,...\n",
       "4             personal                     [کاملا, تمیز, هستند, کیف, ساک]\n",
       "...                ...                                                ...\n",
       "10195         vehicles   [نیمه, دو, همه, چ, شرط, حد, خشک, 260, کار, , 85]\n",
       "10196         vehicles  [فابریک, حلقه, لاستیک, 205, نو, بیمه, یکسال, ت...\n",
       "10197     for-the-home  [بخار, نو, بسیار, تمیز, هست, مشتر, واقع, کنار,...\n",
       "10198  leisure-hobbies  [سلا, دلیل, کمبود, جا, واسباب, کش, ک, میفرو, ک...\n",
       "10199         vehicles  [پراید, 111, se, سفید, مدل, 93, درب, جلو, سم, ...\n",
       "\n",
       "[10200 rows x 2 columns]"
      ]
     },
     "execution_count": 9,
     "metadata": {},
     "output_type": "execute_result"
    }
   ],
   "source": [
    "tokenized_stemmed_df"
   ]
  },
  {
   "cell_type": "markdown",
   "id": "db758e4e",
   "metadata": {},
   "source": [
    "### Lemmatizing"
   ]
  },
  {
   "cell_type": "code",
   "execution_count": 10,
   "id": "edc7815e",
   "metadata": {},
   "outputs": [],
   "source": [
    "tokenized_lemmatized_df = traindf.copy(deep=True)\n",
    "tokenized_lemmatized_df['combined'] = tokenized_lemmatized_df['description'] + ' ' + tokenized_lemmatized_df['title']\n",
    "tokenized_lemmatized_df = tokenized_lemmatized_df.drop(columns=['description', 'title'])\n",
    "for i in range(len(tokenized_lemmatized_df)):\n",
    "    normed = mynormalizer.normalize(tokenized_lemmatized_df['combined'][i])\n",
    "    tokenized_des = hazm.word_tokenize(normed)\n",
    "    tokenized_lemmatized_df['combined'][i] = [stemmer.stem(word) for word in tokenized_des if word not in stops and len(word) > 1]"
   ]
  },
  {
   "cell_type": "code",
   "execution_count": 11,
   "id": "4a1c2049",
   "metadata": {},
   "outputs": [
    {
     "data": {
      "text/html": [
       "<div>\n",
       "<style scoped>\n",
       "    .dataframe tbody tr th:only-of-type {\n",
       "        vertical-align: middle;\n",
       "    }\n",
       "\n",
       "    .dataframe tbody tr th {\n",
       "        vertical-align: top;\n",
       "    }\n",
       "\n",
       "    .dataframe thead th {\n",
       "        text-align: right;\n",
       "    }\n",
       "</style>\n",
       "<table border=\"1\" class=\"dataframe\">\n",
       "  <thead>\n",
       "    <tr style=\"text-align: right;\">\n",
       "      <th></th>\n",
       "      <th>categories</th>\n",
       "      <th>combined</th>\n",
       "    </tr>\n",
       "  </thead>\n",
       "  <tbody>\n",
       "    <tr>\n",
       "      <th>0</th>\n",
       "      <td>leisure-hobbies</td>\n",
       "      <td>[سه, عدد, بلبل, خرما, سه, ماهه, وقت, جوجه, بود...</td>\n",
       "    </tr>\n",
       "    <tr>\n",
       "      <th>1</th>\n",
       "      <td>leisure-hobbies</td>\n",
       "      <td>[عینک, اسک, دبل, لنز, مارک, یو, وکس, حد, نو, ا...</td>\n",
       "    </tr>\n",
       "    <tr>\n",
       "      <th>2</th>\n",
       "      <td>vehicles</td>\n",
       "      <td>[پارچه, سال, تمیز, تکیه, سر, تویوتا, پرادو]</td>\n",
       "    </tr>\n",
       "    <tr>\n",
       "      <th>3</th>\n",
       "      <td>for-the-home</td>\n",
       "      <td>[مجسمه, دکور, کریستال, بالرین, Rcr, 24, مجسمه,...</td>\n",
       "    </tr>\n",
       "    <tr>\n",
       "      <th>4</th>\n",
       "      <td>personal</td>\n",
       "      <td>[کاملا, تمیز, هستند, کیف, ساک]</td>\n",
       "    </tr>\n",
       "    <tr>\n",
       "      <th>...</th>\n",
       "      <td>...</td>\n",
       "      <td>...</td>\n",
       "    </tr>\n",
       "    <tr>\n",
       "      <th>10195</th>\n",
       "      <td>vehicles</td>\n",
       "      <td>[نیمه, دو, همه, چ, شرط, حد, خشک, 260, کار, , 85]</td>\n",
       "    </tr>\n",
       "    <tr>\n",
       "      <th>10196</th>\n",
       "      <td>vehicles</td>\n",
       "      <td>[فابریک, حلقه, لاستیک, 205, نو, بیمه, یکسال, ت...</td>\n",
       "    </tr>\n",
       "    <tr>\n",
       "      <th>10197</th>\n",
       "      <td>for-the-home</td>\n",
       "      <td>[بخار, نو, بسیار, تمیز, هست, مشتر, واقع, کنار,...</td>\n",
       "    </tr>\n",
       "    <tr>\n",
       "      <th>10198</th>\n",
       "      <td>leisure-hobbies</td>\n",
       "      <td>[سلا, دلیل, کمبود, جا, واسباب, کش, ک, میفرو, ک...</td>\n",
       "    </tr>\n",
       "    <tr>\n",
       "      <th>10199</th>\n",
       "      <td>vehicles</td>\n",
       "      <td>[پراید, 111, se, سفید, مدل, 93, درب, جلو, سم, ...</td>\n",
       "    </tr>\n",
       "  </tbody>\n",
       "</table>\n",
       "<p>10200 rows × 2 columns</p>\n",
       "</div>"
      ],
      "text/plain": [
       "            categories                                           combined\n",
       "0      leisure-hobbies  [سه, عدد, بلبل, خرما, سه, ماهه, وقت, جوجه, بود...\n",
       "1      leisure-hobbies  [عینک, اسک, دبل, لنز, مارک, یو, وکس, حد, نو, ا...\n",
       "2             vehicles        [پارچه, سال, تمیز, تکیه, سر, تویوتا, پرادو]\n",
       "3         for-the-home  [مجسمه, دکور, کریستال, بالرین, Rcr, 24, مجسمه,...\n",
       "4             personal                     [کاملا, تمیز, هستند, کیف, ساک]\n",
       "...                ...                                                ...\n",
       "10195         vehicles   [نیمه, دو, همه, چ, شرط, حد, خشک, 260, کار, , 85]\n",
       "10196         vehicles  [فابریک, حلقه, لاستیک, 205, نو, بیمه, یکسال, ت...\n",
       "10197     for-the-home  [بخار, نو, بسیار, تمیز, هست, مشتر, واقع, کنار,...\n",
       "10198  leisure-hobbies  [سلا, دلیل, کمبود, جا, واسباب, کش, ک, میفرو, ک...\n",
       "10199         vehicles  [پراید, 111, se, سفید, مدل, 93, درب, جلو, سم, ...\n",
       "\n",
       "[10200 rows x 2 columns]"
      ]
     },
     "execution_count": 11,
     "metadata": {},
     "output_type": "execute_result"
    }
   ],
   "source": [
    "tokenized_lemmatized_df"
   ]
  },
  {
   "cell_type": "markdown",
   "id": "b9ca704c",
   "metadata": {},
   "source": [
    "## Q1:\n",
    "**Stemming** is the process of reducing inflection in words to their root forms such as mapping a group of words to the same stem **even if the stem itself is not a valid word in the langauge**. Stems are created by removing the suffixes or prefixes used with a word.\n",
    "\n",
    "**Lemmatization**, unlike Stemming, reduces the inflected words properly **ensuring that the root word belongs to the language**. In Lemmatization root word is called Lemma. A lemma is the canonical form, dictionary form, or citation form of a set of words. Since lemmatization returns a valid word of the language, it is used where it is necessary to get valid words.\n",
    "\n"
   ]
  },
  {
   "cell_type": "markdown",
   "id": "489c0c87",
   "metadata": {},
   "source": [
    "### Best Way:"
   ]
  },
  {
   "cell_type": "code",
   "execution_count": 12,
   "id": "e1e9e2d6",
   "metadata": {},
   "outputs": [],
   "source": [
    "def dataCleanse(df):\n",
    "    normalizer = hazm.Normalizer()\n",
    "    lemmatizer = hazm.Lemmatizer() \n",
    "    for col in df:                          #Normalize each cell\n",
    "        for i in range(len(df[col])):\n",
    "            df[col][i] = normalizer.normalize(df[col][i])\n",
    "            \n",
    "    punctuations = set('''!()-[]{};:'\"\\,٬٫،<>./?@#$%٪^&*×ـ+=_~.؟؛«»|…''')\n",
    "    for i in range(len(df['combined'])):\n",
    "        temp = \"\"\n",
    "        for c in df['combined'][i]:\n",
    "            if(c not in punctuations):\n",
    "                temp = temp + c\n",
    "        df['combined'][i] = hazm.word_tokenize(temp)\n",
    "        \n",
    "    stops = set(hazm.stopwords_list())\n",
    "    for i in range(len(df[col])):\n",
    "        temp = []\n",
    "        for j in range(len(df[col][i])):\n",
    "            if(df[col][i][j] not in stops):   #Lemmatizing\n",
    "                temp.append(lemmatizer.lemmatize(df['combined'][i][j]))\n",
    "        df[col][i] = temp\n",
    "    return df"
   ]
  },
  {
   "cell_type": "code",
   "execution_count": 13,
   "id": "8759ffdf",
   "metadata": {},
   "outputs": [
    {
     "data": {
      "text/html": [
       "<div>\n",
       "<style scoped>\n",
       "    .dataframe tbody tr th:only-of-type {\n",
       "        vertical-align: middle;\n",
       "    }\n",
       "\n",
       "    .dataframe tbody tr th {\n",
       "        vertical-align: top;\n",
       "    }\n",
       "\n",
       "    .dataframe thead th {\n",
       "        text-align: right;\n",
       "    }\n",
       "</style>\n",
       "<table border=\"1\" class=\"dataframe\">\n",
       "  <thead>\n",
       "    <tr style=\"text-align: right;\">\n",
       "      <th></th>\n",
       "      <th>categories</th>\n",
       "      <th>combined</th>\n",
       "    </tr>\n",
       "  </thead>\n",
       "  <tbody>\n",
       "    <tr>\n",
       "      <th>0</th>\n",
       "      <td>leisure-hobbies</td>\n",
       "      <td>[عدد, بلبل, خرما, ماهه, جوجه, خودم, بزرگشون, د...</td>\n",
       "    </tr>\n",
       "    <tr>\n",
       "      <th>1</th>\n",
       "      <td>leisure-hobbies</td>\n",
       "      <td>[عینک, اسکی, دبل, لنز, مارک, یو, وکس, نو, اصل,...</td>\n",
       "    </tr>\n",
       "    <tr>\n",
       "      <th>2</th>\n",
       "      <td>vehicles</td>\n",
       "      <td>[پارچه, سالم, تمیز, تکیه, سر, تویوتا, پرادو]</td>\n",
       "    </tr>\n",
       "    <tr>\n",
       "      <th>3</th>\n",
       "      <td>for-the-home</td>\n",
       "      <td>[مجسمه, دکوری, کریستال, بالرین, Rcr, ۲۴, مجسمه...</td>\n",
       "    </tr>\n",
       "    <tr>\n",
       "      <th>4</th>\n",
       "      <td>personal</td>\n",
       "      <td>[۲, تمیز, کیف, ساک]</td>\n",
       "    </tr>\n",
       "    <tr>\n",
       "      <th>...</th>\n",
       "      <td>...</td>\n",
       "      <td>...</td>\n",
       "    </tr>\n",
       "    <tr>\n",
       "      <th>10195</th>\n",
       "      <td>vehicles</td>\n",
       "      <td>[چی, شرط, خشک, ۲۶۰, کار, ان, هاش, ۸۵]</td>\n",
       "    </tr>\n",
       "    <tr>\n",
       "      <th>10196</th>\n",
       "      <td>vehicles</td>\n",
       "      <td>[فابریک, ۴, حلقه, لاستیک, ۲۰۵, نو, بیمه, یکسال...</td>\n",
       "    </tr>\n",
       "    <tr>\n",
       "      <th>10197</th>\n",
       "      <td>for-the-home</td>\n",
       "      <td>[بخاری, نو, تمیز, هستش, مشتری, واقعی, میام, بخ...</td>\n",
       "    </tr>\n",
       "    <tr>\n",
       "      <th>10198</th>\n",
       "      <td>leisure-hobbies</td>\n",
       "      <td>[سلام, دلیل, کمبود, واسباب, کشید#کش, کمترین, ق...</td>\n",
       "    </tr>\n",
       "    <tr>\n",
       "      <th>10199</th>\n",
       "      <td>vehicles</td>\n",
       "      <td>[پراید, ۱۱۱, se, سفید, مدل, ۹۳, درب, جلو, شاگر...</td>\n",
       "    </tr>\n",
       "  </tbody>\n",
       "</table>\n",
       "<p>10200 rows × 2 columns</p>\n",
       "</div>"
      ],
      "text/plain": [
       "            categories                                           combined\n",
       "0      leisure-hobbies  [عدد, بلبل, خرما, ماهه, جوجه, خودم, بزرگشون, د...\n",
       "1      leisure-hobbies  [عینک, اسکی, دبل, لنز, مارک, یو, وکس, نو, اصل,...\n",
       "2             vehicles       [پارچه, سالم, تمیز, تکیه, سر, تویوتا, پرادو]\n",
       "3         for-the-home  [مجسمه, دکوری, کریستال, بالرین, Rcr, ۲۴, مجسمه...\n",
       "4             personal                                [۲, تمیز, کیف, ساک]\n",
       "...                ...                                                ...\n",
       "10195         vehicles              [چی, شرط, خشک, ۲۶۰, کار, ان, هاش, ۸۵]\n",
       "10196         vehicles  [فابریک, ۴, حلقه, لاستیک, ۲۰۵, نو, بیمه, یکسال...\n",
       "10197     for-the-home  [بخاری, نو, تمیز, هستش, مشتری, واقعی, میام, بخ...\n",
       "10198  leisure-hobbies  [سلام, دلیل, کمبود, واسباب, کشید#کش, کمترین, ق...\n",
       "10199         vehicles  [پراید, ۱۱۱, se, سفید, مدل, ۹۳, درب, جلو, شاگر...\n",
       "\n",
       "[10200 rows x 2 columns]"
      ]
     },
     "execution_count": 13,
     "metadata": {},
     "output_type": "execute_result"
    }
   ],
   "source": [
    "traindf = pd.read_csv('divar_train.csv')\n",
    "traindf['combined'] = traindf['description'] + ' ' + traindf['title']\n",
    "traindf = traindf.drop(columns=['description', 'title'])\n",
    "traindf = dataCleanse(traindf)\n",
    "traindf"
   ]
  },
  {
   "cell_type": "code",
   "execution_count": 14,
   "id": "9e82c7bf",
   "metadata": {},
   "outputs": [
    {
     "data": {
      "text/html": [
       "<div>\n",
       "<style scoped>\n",
       "    .dataframe tbody tr th:only-of-type {\n",
       "        vertical-align: middle;\n",
       "    }\n",
       "\n",
       "    .dataframe tbody tr th {\n",
       "        vertical-align: top;\n",
       "    }\n",
       "\n",
       "    .dataframe thead th {\n",
       "        text-align: right;\n",
       "    }\n",
       "</style>\n",
       "<table border=\"1\" class=\"dataframe\">\n",
       "  <thead>\n",
       "    <tr style=\"text-align: right;\">\n",
       "      <th></th>\n",
       "      <th>categories</th>\n",
       "      <th>combined</th>\n",
       "    </tr>\n",
       "  </thead>\n",
       "  <tbody>\n",
       "    <tr>\n",
       "      <th>0</th>\n",
       "      <td>personal</td>\n",
       "      <td>[کیف, مجلس, نو, نو, کیف, مجلس, نو]</td>\n",
       "    </tr>\n",
       "    <tr>\n",
       "      <th>1</th>\n",
       "      <td>for-the-home</td>\n",
       "      <td>[جهاز, عروس, دیوار, کوب, نمد, تزیین]</td>\n",
       "    </tr>\n",
       "    <tr>\n",
       "      <th>2</th>\n",
       "      <td>for-the-home</td>\n",
       "      <td>[کشو, مخفی, شیک, تیکه, تمیز, سالم]</td>\n",
       "    </tr>\n",
       "    <tr>\n",
       "      <th>3</th>\n",
       "      <td>electronic-devices</td>\n",
       "      <td>[سلام, مودم, سالم, وسایل, دیگه, ب, کاشت#کار, ن...</td>\n",
       "    </tr>\n",
       "    <tr>\n",
       "      <th>4</th>\n",
       "      <td>leisure-hobbies</td>\n",
       "      <td>[سلام, تعدای, بوقلمون, داشت#دار, جابه, فروش, ج...</td>\n",
       "    </tr>\n",
       "    <tr>\n",
       "      <th>...</th>\n",
       "      <td>...</td>\n",
       "      <td>...</td>\n",
       "    </tr>\n",
       "    <tr>\n",
       "      <th>1795</th>\n",
       "      <td>businesses</td>\n",
       "      <td>[سالمه, سالمه, بشرط, قیمت, نوش, داخل, بازار, ۶...</td>\n",
       "    </tr>\n",
       "    <tr>\n",
       "      <th>1796</th>\n",
       "      <td>businesses</td>\n",
       "      <td>[میز, مدیریت, کنفرانس, تمیز, سالم, خط, خش, میز...</td>\n",
       "    </tr>\n",
       "    <tr>\n",
       "      <th>1797</th>\n",
       "      <td>electronic-devices</td>\n",
       "      <td>[سالم, اسپیکر, باند, aiwa]</td>\n",
       "    </tr>\n",
       "    <tr>\n",
       "      <th>1798</th>\n",
       "      <td>leisure-hobbies</td>\n",
       "      <td>[عروس, هلند, جفت, ویک, تک, یه, جفت, دم, تخمه, ...</td>\n",
       "    </tr>\n",
       "    <tr>\n",
       "      <th>1799</th>\n",
       "      <td>personal</td>\n",
       "      <td>[ست, دخترانه, یکسال, نیم, میشه, کاردست, نو, نو...</td>\n",
       "    </tr>\n",
       "  </tbody>\n",
       "</table>\n",
       "<p>1800 rows × 2 columns</p>\n",
       "</div>"
      ],
      "text/plain": [
       "              categories                                           combined\n",
       "0               personal                 [کیف, مجلس, نو, نو, کیف, مجلس, نو]\n",
       "1           for-the-home               [جهاز, عروس, دیوار, کوب, نمد, تزیین]\n",
       "2           for-the-home                 [کشو, مخفی, شیک, تیکه, تمیز, سالم]\n",
       "3     electronic-devices  [سلام, مودم, سالم, وسایل, دیگه, ب, کاشت#کار, ن...\n",
       "4        leisure-hobbies  [سلام, تعدای, بوقلمون, داشت#دار, جابه, فروش, ج...\n",
       "...                  ...                                                ...\n",
       "1795          businesses  [سالمه, سالمه, بشرط, قیمت, نوش, داخل, بازار, ۶...\n",
       "1796          businesses  [میز, مدیریت, کنفرانس, تمیز, سالم, خط, خش, میز...\n",
       "1797  electronic-devices                         [سالم, اسپیکر, باند, aiwa]\n",
       "1798     leisure-hobbies  [عروس, هلند, جفت, ویک, تک, یه, جفت, دم, تخمه, ...\n",
       "1799            personal  [ست, دخترانه, یکسال, نیم, میشه, کاردست, نو, نو...\n",
       "\n",
       "[1800 rows x 2 columns]"
      ]
     },
     "execution_count": 14,
     "metadata": {},
     "output_type": "execute_result"
    }
   ],
   "source": [
    "testdf = pd.read_csv('divar_test.csv')\n",
    "testdf['combined'] = testdf['description'] + ' ' + testdf['title']\n",
    "testdf = testdf.drop(columns=['description', 'title'])\n",
    "testdf = dataCleanse(testdf)\n",
    "testdf"
   ]
  },
  {
   "cell_type": "code",
   "execution_count": 15,
   "id": "2cc7da6c",
   "metadata": {},
   "outputs": [
    {
     "data": {
      "text/plain": [
       "{'leisure-hobbies': {},\n",
       " 'vehicles': {},\n",
       " 'for-the-home': {},\n",
       " 'personal': {},\n",
       " 'electronic-devices': {},\n",
       " 'businesses': {}}"
      ]
     },
     "execution_count": 15,
     "metadata": {},
     "output_type": "execute_result"
    }
   ],
   "source": [
    "all_words = dict()\n",
    "iter = 0\n",
    "for cat in traindf.categories.unique():\n",
    "    all_words[cat] = dict()\n",
    "    iter += 1\n",
    "all_words"
   ]
  },
  {
   "cell_type": "code",
   "execution_count": 16,
   "id": "06b9f21e",
   "metadata": {},
   "outputs": [],
   "source": [
    "for i in range(len(traindf)):\n",
    "    for word in traindf['combined'][i]:\n",
    "        if word in all_words[traindf['categories'][i]]:\n",
    "            all_words[traindf['categories'][i]][word] += 1\n",
    "        else:\n",
    "            all_words[traindf['categories'][i]][word] = 1"
   ]
  },
  {
   "cell_type": "markdown",
   "id": "81aa2161",
   "metadata": {},
   "source": [
    "## Q6: "
   ]
  },
  {
   "cell_type": "code",
   "execution_count": 17,
   "id": "c54b5858",
   "metadata": {},
   "outputs": [
    {
     "data": {
      "image/png": "[encoded data removed]",
      "text/plain": [
       "<Figure size 1152x576 with 6 Axes>"
      ]
     },
     "metadata": {
      "needs_background": "light"
     },
     "output_type": "display_data"
    }
   ],
   "source": [
    "def _(text):\n",
    "    return get_display(\n",
    "        arabic_reshaper.reshape(u'%s' % str(text))\n",
    "    )\n",
    "fig, axs = plt.subplots(2, 3)\n",
    "fig.set_size_inches(16, 8)\n",
    "fig.tight_layout(pad=3.0)\n",
    "for i in range(2):\n",
    "    for j in range(3):\n",
    "        key_index = 3*i + j\n",
    "        cat = list(all_words.keys())[key_index]\n",
    "        sorted_words_per_cat = dict(sorted(all_words[cat].items(), key=lambda item: item[1], reverse=True))\n",
    "        words_per_cat = list(sorted_words_per_cat.keys())[0:6]\n",
    "        counts_per_cat = list(sorted_words_per_cat.values())[0:6]\n",
    "        axs[i, j].bar(list(map(lambda x:_(x), words_per_cat)), counts_per_cat)\n",
    "        axs[i, j].set_title(_(cat))\n",
    "plt.show()"
   ]
  },
  {
   "cell_type": "code",
   "execution_count": 18,
   "id": "11456ab9",
   "metadata": {},
   "outputs": [],
   "source": [
    "def categoryMap(df, mapper):\n",
    "    for i in range(len(df['categories'])):\n",
    "        df['categories'][i] = mapper.get(df['categories'][i])\n",
    "    return df"
   ]
  },
  {
   "cell_type": "code",
   "execution_count": 19,
   "id": "69469ed9",
   "metadata": {},
   "outputs": [
    {
     "name": "stdout",
     "output_type": "stream",
     "text": [
      "leisure-hobbies  ===  0\n",
      "vehicles  ===  1\n",
      "for-the-home  ===  2\n",
      "personal  ===  3\n",
      "electronic-devices  ===  4\n",
      "businesses  ===  5\n"
     ]
    }
   ],
   "source": [
    "\n",
    "uniqueCategories = traindf['categories'].unique()\n",
    "categories ={}\n",
    "for i in range(len(uniqueCategories)):\n",
    "    categories[uniqueCategories[i]] = i\n",
    "for category in categories:\n",
    "    print(category,\" === \", categories.get(category))"
   ]
  },
  {
   "cell_type": "code",
   "execution_count": 20,
   "id": "6406508d",
   "metadata": {},
   "outputs": [],
   "source": [
    "traindf = categoryMap(traindf, categories)\n",
    "testdf = categoryMap(testdf, categories)"
   ]
  },
  {
   "cell_type": "code",
   "execution_count": 21,
   "id": "f06bfa24",
   "metadata": {},
   "outputs": [
    {
     "data": {
      "text/html": [
       "<div>\n",
       "<style scoped>\n",
       "    .dataframe tbody tr th:only-of-type {\n",
       "        vertical-align: middle;\n",
       "    }\n",
       "\n",
       "    .dataframe tbody tr th {\n",
       "        vertical-align: top;\n",
       "    }\n",
       "\n",
       "    .dataframe thead th {\n",
       "        text-align: right;\n",
       "    }\n",
       "</style>\n",
       "<table border=\"1\" class=\"dataframe\">\n",
       "  <thead>\n",
       "    <tr style=\"text-align: right;\">\n",
       "      <th></th>\n",
       "      <th>categories</th>\n",
       "      <th>combined</th>\n",
       "    </tr>\n",
       "  </thead>\n",
       "  <tbody>\n",
       "    <tr>\n",
       "      <th>0</th>\n",
       "      <td>0</td>\n",
       "      <td>[عدد, بلبل, خرما, ماهه, جوجه, خودم, بزرگشون, د...</td>\n",
       "    </tr>\n",
       "    <tr>\n",
       "      <th>1</th>\n",
       "      <td>0</td>\n",
       "      <td>[عینک, اسکی, دبل, لنز, مارک, یو, وکس, نو, اصل,...</td>\n",
       "    </tr>\n",
       "    <tr>\n",
       "      <th>6</th>\n",
       "      <td>0</td>\n",
       "      <td>[بخاطر, جابجایی, قصد, فروش, داشت#دار, وبه, خری...</td>\n",
       "    </tr>\n",
       "    <tr>\n",
       "      <th>9</th>\n",
       "      <td>0</td>\n",
       "      <td>[چادر, ده, نفره, جنس, یه, استفاده, کلا, تخفیف,...</td>\n",
       "    </tr>\n",
       "    <tr>\n",
       "      <th>12</th>\n",
       "      <td>0</td>\n",
       "      <td>[باسلام, سفید, نر, پرش, #هست, کبوتر, سفید]</td>\n",
       "    </tr>\n",
       "    <tr>\n",
       "      <th>...</th>\n",
       "      <td>...</td>\n",
       "      <td>...</td>\n",
       "    </tr>\n",
       "    <tr>\n",
       "      <th>10181</th>\n",
       "      <td>0</td>\n",
       "      <td>[دوچرخه, طب, پزشک, قوی, محکم, شیک, تمیز, دوچرخ...</td>\n",
       "    </tr>\n",
       "    <tr>\n",
       "      <th>10189</th>\n",
       "      <td>0</td>\n",
       "      <td>[دوچرخه, بیست, دنده, تایتانیک, رنگ, سفیدکاملاس...</td>\n",
       "    </tr>\n",
       "    <tr>\n",
       "      <th>10190</th>\n",
       "      <td>0</td>\n",
       "      <td>[فلسفه, منطق, کتاب, درس, ۱۳۳۶]</td>\n",
       "    </tr>\n",
       "    <tr>\n",
       "      <th>10191</th>\n",
       "      <td>0</td>\n",
       "      <td>[مخصوص, انواع, پرنده, ابعاد, ۳متر, ۱, ارتفاع, ...</td>\n",
       "    </tr>\n",
       "    <tr>\n",
       "      <th>10198</th>\n",
       "      <td>0</td>\n",
       "      <td>[سلام, دلیل, کمبود, واسباب, کشید#کش, کمترین, ق...</td>\n",
       "    </tr>\n",
       "  </tbody>\n",
       "</table>\n",
       "<p>1700 rows × 2 columns</p>\n",
       "</div>"
      ],
      "text/plain": [
       "      categories                                           combined\n",
       "0              0  [عدد, بلبل, خرما, ماهه, جوجه, خودم, بزرگشون, د...\n",
       "1              0  [عینک, اسکی, دبل, لنز, مارک, یو, وکس, نو, اصل,...\n",
       "6              0  [بخاطر, جابجایی, قصد, فروش, داشت#دار, وبه, خری...\n",
       "9              0  [چادر, ده, نفره, جنس, یه, استفاده, کلا, تخفیف,...\n",
       "12             0         [باسلام, سفید, نر, پرش, #هست, کبوتر, سفید]\n",
       "...          ...                                                ...\n",
       "10181          0  [دوچرخه, طب, پزشک, قوی, محکم, شیک, تمیز, دوچرخ...\n",
       "10189          0  [دوچرخه, بیست, دنده, تایتانیک, رنگ, سفیدکاملاس...\n",
       "10190          0                     [فلسفه, منطق, کتاب, درس, ۱۳۳۶]\n",
       "10191          0  [مخصوص, انواع, پرنده, ابعاد, ۳متر, ۱, ارتفاع, ...\n",
       "10198          0  [سلام, دلیل, کمبود, واسباب, کشید#کش, کمترین, ق...\n",
       "\n",
       "[1700 rows x 2 columns]"
      ]
     },
     "execution_count": 21,
     "metadata": {},
     "output_type": "execute_result"
    }
   ],
   "source": [
    "train_class0 = traindf.loc[traindf['categories'].isin([0])]\n",
    "train_class1 = traindf.loc[traindf['categories'].isin([1])]\n",
    "train_class2 = traindf.loc[traindf['categories'].isin([2])]\n",
    "train_class3 = traindf.loc[traindf['categories'].isin([3])]\n",
    "train_class4 = traindf.loc[traindf['categories'].isin([4])]\n",
    "train_class5 = traindf.loc[traindf['categories'].isin([5])]\n",
    "train_class0"
   ]
  },
  {
   "cell_type": "markdown",
   "id": "9c01de3f",
   "metadata": {},
   "source": [
    "## Q2:\n",
    "<div align=center><img src='PriorPosterior .jpg'/></div><br/>\n",
    "\n",
    "$$ P(c|x) = \\frac{P(x|c)P(c)}{P(x)} $$\n",
    "\n",
    "$x$: The word appeared\n",
    "\n",
    "$c$: The ad category\n",
    "\n",
    "$P(x|c)$ : Probability of seeing word $x$ in a ad of category $c$ **(Likelihood)**\n",
    "\n",
    "$P(c|x)$ : Probability of the current ad category being $c$ knowing that the word $x$ has appeared in the (title+description). **(Posterior)**\n",
    "\n",
    "$P(c)$: Probability of seeing an ad with category $c$ in the dataset. **(Prior)**\n"
   ]
  },
  {
   "cell_type": "code",
   "execution_count": 22,
   "id": "f4ad0871",
   "metadata": {},
   "outputs": [],
   "source": [
    "def makeDictOfProb(data_class):\n",
    "    words_prob = {}\n",
    "    for index, row in data_class.iterrows():\n",
    "        for j in range(len(row['combined'])):\n",
    "            word = row['combined'][j]\n",
    "            if(word not in words_prob):\n",
    "                words_prob[word] = 1\n",
    "            else:\n",
    "                words_prob[word] = words_prob.get(word)+1\n",
    "    num_all = sum(words_prob.values())\n",
    "    for key in words_prob:\n",
    "        words_prob[key] = (words_prob.get(key))/num_all\n",
    "    return words_prob"
   ]
  },
  {
   "cell_type": "code",
   "execution_count": 23,
   "id": "14c8e193",
   "metadata": {},
   "outputs": [],
   "source": [
    "train_class0_words = makeDictOfProb(train_class0)\n",
    "train_class1_words = makeDictOfProb(train_class1)\n",
    "train_class2_words = makeDictOfProb(train_class2)\n",
    "train_class3_words = makeDictOfProb(train_class3)\n",
    "train_class4_words = makeDictOfProb(train_class4)\n",
    "train_class5_words = makeDictOfProb(train_class5)\n",
    "train_all_words = [train_class0_words, train_class1_words,\n",
    "                    train_class2_words, train_class3_words,\n",
    "                    train_class4_words, train_class5_words]"
   ]
  },
  {
   "cell_type": "code",
   "execution_count": 24,
   "id": "6df88b73",
   "metadata": {},
   "outputs": [
    {
     "data": {
      "text/plain": [
       "153183"
      ]
     },
     "execution_count": 24,
     "metadata": {},
     "output_type": "execute_result"
    }
   ],
   "source": [
    "all_words_unique = {}\n",
    "for i in range(len(traindf['combined'])):\n",
    "    for j in range(len(traindf['combined'][i])):\n",
    "        word = traindf['combined'][i][j]\n",
    "        if(word not in all_words_unique):\n",
    "            all_words_unique[word] = 1\n",
    "        else:\n",
    "            all_words_unique[word] = 1 + all_words_unique.get(word)  \n",
    "num_all_words = sum(all_words_unique.values())\n",
    "num_all_words"
   ]
  },
  {
   "cell_type": "code",
   "execution_count": 25,
   "id": "1e8b8e83",
   "metadata": {},
   "outputs": [],
   "source": [
    "categories_list = list(categories)"
   ]
  },
  {
   "cell_type": "code",
   "execution_count": 26,
   "id": "e124c752",
   "metadata": {},
   "outputs": [],
   "source": [
    "test_categories = testdf['categories'].tolist()\n",
    "test_feature = testdf['combined'].tolist()"
   ]
  },
  {
   "cell_type": "markdown",
   "id": "124098f8",
   "metadata": {},
   "source": [
    "## Evaluating Model\n",
    "\n",
    "* **Accuray** is the number of the correct detections divided by the total number of detection.\n",
    " \n",
    "* **Precision** is the number of correct recommended detections divided by the total number of recommended detections including wrong ones.\n",
    "\n",
    "* **Recall** is the number of correct recommended detections divided by the total number of recommended in test data.\n",
    "\n",
    "* **F1** Score is the harmonic mean of the recall and precision."
   ]
  },
  {
   "cell_type": "code",
   "execution_count": 27,
   "id": "7b54c91d",
   "metadata": {},
   "outputs": [],
   "source": [
    "def calculate_precision_recall_F1(test_categories, pred_cat, classNum):\n",
    "    precision = 0\n",
    "    recall = 0\n",
    "    F1 = 0\n",
    "    \n",
    "    detected_class = 0\n",
    "    for i in range(len(pred_cat)):\n",
    "        if(test_categories[i] == pred_cat[i]):\n",
    "            if(pred_cat[i] == classNum):\n",
    "                detected_class += 1\n",
    "                \n",
    "    all_detected_class = 0\n",
    "    for i in range(len(pred_cat)):\n",
    "        if(pred_cat[i] == classNum):\n",
    "            all_detected_class += 1\n",
    "            \n",
    "    total_class = 0\n",
    "    for i in range(len(test_categories)):\n",
    "        if(test_categories[i] == classNum):\n",
    "            total_class += 1\n",
    "\n",
    "    precision = 100*detected_class/all_detected_class\n",
    "    recall = 100*detected_class/total_class\n",
    "    F1 = 2*((precision*recall)/(precision+recall))\n",
    "    \n",
    "    return precision, recall, F1"
   ]
  },
  {
   "cell_type": "code",
   "execution_count": 28,
   "id": "0cf074dc",
   "metadata": {},
   "outputs": [],
   "source": [
    "import math\n",
    "def Estimator1(test_feature, trainwordprob):\n",
    "    prob = 0\n",
    "    prob = prob + math.log(1/6) #p(c)\n",
    "    probOfWordsForClass = []\n",
    "    for i in range(len(test_feature)):\n",
    "        word = test_feature[i]\n",
    "        if(word in trainwordprob):\n",
    "            probOfWordsForClass.append(math.log(trainwordprob.get(word)))\n",
    "    prob = prob + sum(probOfWordsForClass)\n",
    "    return prob"
   ]
  },
  {
   "cell_type": "code",
   "execution_count": 29,
   "id": "e30f2984",
   "metadata": {},
   "outputs": [
    {
     "name": "stdout",
     "output_type": "stream",
     "text": [
      "accuracy:  0.03944444444444444\n"
     ]
    }
   ],
   "source": [
    "predictedc = []\n",
    "for i in range(len(test_feature)):\n",
    "    cchance = []\n",
    "    for j in range(len(train_all_words)):\n",
    "        cchance_j = Estimator1(test_feature[i],train_all_words[j])         \n",
    "        cchance.append(cchance_j)\n",
    "    predictedc.append(cchance.index(max(cchance)))\n",
    "similar = 0\n",
    "for i in range(len(test_categories)):\n",
    "    if(test_categories[i] == predictedc[i]):\n",
    "        similar +=1\n",
    "accuracy = similar/(len(test_categories))\n",
    "print(\"accuracy: \",accuracy)"
   ]
  },
  {
   "cell_type": "markdown",
   "id": "43ece46a",
   "metadata": {},
   "source": [
    "## Q10.1:"
   ]
  },
  {
   "cell_type": "code",
   "execution_count": 30,
   "id": "fe8731ac",
   "metadata": {},
   "outputs": [
    {
     "name": "stdout",
     "output_type": "stream",
     "text": [
      "--------------------WITHOUT ADDITIVE SMOOTHING--------------------\n",
      "class 0 precision:  5.0359712230215825 %\n",
      "class 0 recall:  2.3333333333333335 %\n",
      "class 0 F1:  3.189066059225513 %\n",
      "\n",
      "class 1 precision:  1.6990291262135921 %\n",
      "class 1 recall:  2.3333333333333335 %\n",
      "class 1 F1:  1.9662921348314604 %\n",
      "\n",
      "class 2 precision:  2.9702970297029703 %\n",
      "class 2 recall:  4.0 %\n",
      "class 2 F1:  3.409090909090909 %\n",
      "\n",
      "class 3 precision:  5.732484076433121 %\n",
      "class 3 recall:  6.0 %\n",
      "class 3 F1:  5.863192182410423 %\n",
      "\n",
      "class 4 precision:  3.6231884057971016 %\n",
      "class 4 recall:  5.0 %\n",
      "class 4 F1:  4.201680672268908 %\n",
      "\n",
      "class 5 precision:  10.256410256410257 %\n",
      "class 5 recall:  4.0 %\n",
      "class 5 F1:  5.755395683453237 %\n",
      "\n",
      "accuracy:  0.03944444444444444\n",
      "macro F1:  4.064119606880075\n"
     ]
    }
   ],
   "source": [
    "print('--------------------WITHOUT ADDITIVE SMOOTHING--------------------')\n",
    "precision_class_0, recall_class_0, F1_class_0 = calculate_precision_recall_F1(test_categories, predictedc, 0)                \n",
    "print(\"class 0 precision: \",precision_class_0,\"%\\nclass 0 recall: \",recall_class_0,\"%\\nclass 0 F1: \",F1_class_0,\"%\")   \n",
    "print()\n",
    "precision_class_1, recall_class_1, F1_class_1 = calculate_precision_recall_F1(test_categories, predictedc, 1)                \n",
    "print(\"class 1 precision: \",precision_class_1,\"%\\nclass 1 recall: \",recall_class_1,\"%\\nclass 1 F1: \",F1_class_1,\"%\")   \n",
    "print()\n",
    "precision_class_2, recall_class_2, F1_class_2 = calculate_precision_recall_F1(test_categories, predictedc, 2)                \n",
    "print(\"class 2 precision: \",precision_class_2,\"%\\nclass 2 recall: \",recall_class_2,\"%\\nclass 2 F1: \",F1_class_2,\"%\")   \n",
    "print()\n",
    "precision_class_3, recall_class_3, F1_class_3 = calculate_precision_recall_F1(test_categories, predictedc, 3)                \n",
    "print(\"class 3 precision: \",precision_class_3,\"%\\nclass 3 recall: \",recall_class_3,\"%\\nclass 3 F1: \",F1_class_3,\"%\")   \n",
    "print()\n",
    "precision_class_4, recall_class_4, F1_class_4 = calculate_precision_recall_F1(test_categories, predictedc, 4)                \n",
    "print(\"class 4 precision: \",precision_class_4,\"%\\nclass 4 recall: \",recall_class_4,\"%\\nclass 4 F1: \",F1_class_4,\"%\")   \n",
    "print()\n",
    "precision_class_5, recall_class_5, F1_class_5 = calculate_precision_recall_F1(test_categories, predictedc, 5)                \n",
    "print(\"class 5 precision: \",precision_class_5,\"%\\nclass 5 recall: \",recall_class_5,\"%\\nclass 5 F1: \",F1_class_5,\"%\")   \n",
    "print()\n",
    "print(\"accuracy: \",accuracy)\n",
    "macro_F1 = (F1_class_0 + F1_class_1 + F1_class_2 + F1_class_3 + F1_class_4 + F1_class_5)/6\n",
    "print(\"macro F1: \",macro_F1)"
   ]
  },
  {
   "cell_type": "code",
   "execution_count": 31,
   "id": "626bbc93",
   "metadata": {},
   "outputs": [],
   "source": [
    "def Estimator2(test_feature, trainwordprob):\n",
    "    prob = 0\n",
    "    prob = prob + math.log(1/6) #p(c)\n",
    "    probOfWordsForClass = []\n",
    "    n = 0\n",
    "    minVal = math.log(0.00000001)\n",
    "    for i in range(len(test_feature)):\n",
    "        word = test_feature[i]\n",
    "        if(word in trainwordprob):\n",
    "            probOfWordsForClass.append(math.log(trainwordprob.get(word)))\n",
    "        else:\n",
    "            n += 1\n",
    "    for i in range(n):\n",
    "        if(len(probOfWordsForClass) == 0):\n",
    "            probOfWordsForClass.append(minVal)\n",
    "        else:\n",
    "            probOfWordsForClass.append(min(probOfWordsForClass))\n",
    "    prob = prob + sum(probOfWordsForClass)\n",
    "    return prob"
   ]
  },
  {
   "cell_type": "code",
   "execution_count": 32,
   "id": "a567d76b",
   "metadata": {},
   "outputs": [
    {
     "name": "stdout",
     "output_type": "stream",
     "text": [
      "accuracy:  0.7077777777777777\n"
     ]
    }
   ],
   "source": [
    "predictedc = []\n",
    "for i in range(len(test_feature)):\n",
    "    cchance = []\n",
    "    for j in range(len(train_all_words)):\n",
    "        cchance_j = Estimator2(test_feature[i],train_all_words[j])         \n",
    "        cchance.append(cchance_j)\n",
    "    predictedc.append(cchance.index(max(cchance)))\n",
    "similar = 0\n",
    "for i in range(len(test_categories)):\n",
    "    if(test_categories[i] == predictedc[i]):\n",
    "        similar +=1\n",
    "accuracy = similar/(len(test_categories))\n",
    "print(\"accuracy: \",accuracy)"
   ]
  },
  {
   "cell_type": "code",
   "execution_count": 33,
   "id": "70483f70",
   "metadata": {},
   "outputs": [],
   "source": [
    "def Estimator3(test_feature, trainwordprob, num_all_words):\n",
    "    prob = 0\n",
    "    prob = prob + math.log(1/6) #p(c)\n",
    "    probOfWordsForClass = []\n",
    "    n = 0\n",
    "    alpha = 1\n",
    "    for i in range(len(test_feature)):\n",
    "        word = test_feature[i]\n",
    "        if(word in trainwordprob):\n",
    "            probOfWordsForClass.append(math.log(trainwordprob.get(word)))\n",
    "        else:\n",
    "            n += 1\n",
    "    for i in range(n):\n",
    "        probOfWordsForClass.append(math.log((0+alpha)/(num_all_words)))\n",
    "    prob = prob + sum(probOfWordsForClass)\n",
    "    return prob"
   ]
  },
  {
   "cell_type": "code",
   "execution_count": 34,
   "id": "d8138bce",
   "metadata": {},
   "outputs": [
    {
     "name": "stdout",
     "output_type": "stream",
     "text": [
      "accuracy:  87.16666666666667\n"
     ]
    }
   ],
   "source": [
    "predictedc = []\n",
    "for i in range(len(test_feature)):\n",
    "    cchance = []\n",
    "    for j in range(len(train_all_words)):\n",
    "        cchance_j = Estimator3(test_feature[i],train_all_words[j], num_all_words)                      \n",
    "        cchance.append(cchance_j)\n",
    "    predictedc.append(cchance.index(max(cchance)))\n",
    "similar = 0\n",
    "for i in range(len(test_categories)):\n",
    "    if(test_categories[i] == predictedc[i]):\n",
    "        similar +=1\n",
    "accuracy = 100*similar/(len(test_categories))\n",
    "print(\"accuracy: \",accuracy)"
   ]
  },
  {
   "cell_type": "markdown",
   "id": "efa6eea2",
   "metadata": {},
   "source": [
    "## Q10.2:"
   ]
  },
  {
   "cell_type": "code",
   "execution_count": 35,
   "id": "41d6ecdd",
   "metadata": {},
   "outputs": [
    {
     "name": "stdout",
     "output_type": "stream",
     "text": [
      "---------------------WITH ADDITIVE SMOOTHING---------------------\n",
      "class 0 precision:  92.1146953405018 %\n",
      "class 0 recall:  85.66666666666667 %\n",
      "class 0 F1:  88.77374784110536 %\n",
      "\n",
      "class 1 precision:  92.85714285714286 %\n",
      "class 1 recall:  91.0 %\n",
      "class 1 F1:  91.91919191919192 %\n",
      "\n",
      "class 2 precision:  82.9113924050633 %\n",
      "class 2 recall:  87.33333333333333 %\n",
      "class 2 F1:  85.06493506493507 %\n",
      "\n",
      "class 3 precision:  89.52702702702703 %\n",
      "class 3 recall:  88.33333333333333 %\n",
      "class 3 F1:  88.92617449664431 %\n",
      "\n",
      "class 4 precision:  90.52287581699346 %\n",
      "class 4 recall:  92.33333333333333 %\n",
      "class 4 F1:  91.41914191419141 %\n",
      "\n",
      "class 5 precision:  76.05177993527508 %\n",
      "class 5 recall:  78.33333333333333 %\n",
      "class 5 F1:  77.17569786535304 %\n",
      "\n",
      "accuracy:  87.16666666666667\n",
      "macro F1:  87.21314818357018\n"
     ]
    }
   ],
   "source": [
    "print('---------------------WITH ADDITIVE SMOOTHING---------------------')\n",
    "precision_class_0, recall_class_0, F1_class_0 = calculate_precision_recall_F1(test_categories, predictedc, 0)                \n",
    "print(\"class 0 precision: \",precision_class_0,\"%\\nclass 0 recall: \",recall_class_0,\"%\\nclass 0 F1: \",F1_class_0,'%')   \n",
    "print()\n",
    "precision_class_1, recall_class_1, F1_class_1 = calculate_precision_recall_F1(test_categories, predictedc, 1)                \n",
    "print(\"class 1 precision: \",precision_class_1,\"%\\nclass 1 recall: \",recall_class_1,\"%\\nclass 1 F1: \",F1_class_1,'%')   \n",
    "print()\n",
    "precision_class_2, recall_class_2, F1_class_2 = calculate_precision_recall_F1(test_categories, predictedc, 2)                \n",
    "print(\"class 2 precision: \",precision_class_2,\"%\\nclass 2 recall: \",recall_class_2,\"%\\nclass 2 F1: \",F1_class_2,'%')   \n",
    "print()\n",
    "precision_class_3, recall_class_3, F1_class_3 = calculate_precision_recall_F1(test_categories, predictedc, 3)                \n",
    "print(\"class 3 precision: \",precision_class_3,\"%\\nclass 3 recall: \",recall_class_3,\"%\\nclass 3 F1: \",F1_class_3,'%')   \n",
    "print()\n",
    "precision_class_4, recall_class_4, F1_class_4 = calculate_precision_recall_F1(test_categories, predictedc, 4)                \n",
    "print(\"class 4 precision: \",precision_class_4,\"%\\nclass 4 recall: \",recall_class_4,\"%\\nclass 4 F1: \",F1_class_4,'%')   \n",
    "print()\n",
    "precision_class_5, recall_class_5, F1_class_5 = calculate_precision_recall_F1(test_categories, predictedc, 5)                \n",
    "print(\"class 5 precision: \",precision_class_5,\"%\\nclass 5 recall: \",recall_class_5,\"%\\nclass 5 F1: \",F1_class_5,'%')   \n",
    "print()\n",
    "print(\"accuracy: \",accuracy)\n",
    "macro_F1 = (F1_class_0 + F1_class_1 + F1_class_2 + F1_class_3 + F1_class_4 + F1_class_5)/6\n",
    "print(\"macro F1: \",macro_F1)"
   ]
  },
  {
   "cell_type": "markdown",
   "id": "2d567769",
   "metadata": {},
   "source": [
    "## Q3:\n",
    "* ماشین بدون خط و خش\n",
    "* دارای خط و خش\n",
    "* دفتر خط کشی شده\n",
    "<br />\n",
    "همانطور که مشخص است جمله اول مربوط به کلاس وسایل نقلیه بوده و مفهوم مثبت دارد و جمله دوم متعلق به کلاس وسایل نقلیه بوده ولی مفهوم منفی دارد و جمله سوم به احتمال زیاد مربوط به کلاس لوازم تحریر یا وسایل شخصی می باشد ولی کلمه **خط** در هر سه مشترک است. در نتیجه استفاده از بایگرام یا 3-گرام ها به ما این امکان را می دهد که با توجه به لغات بعدی و قبلی تخمین دقیق تری درباره مفهوم این کلمه داشته باشیم"
   ]
  },
  {
   "cell_type": "markdown",
   "id": "cf4c3973",
   "metadata": {},
   "source": [
    "## Q4:\n",
    "In our model we are calculating the sum of $log$ of probabilities. So, if a word doesn't exist in our dataset it will get probability of $\\log(0) = -\\infty$ and that class's probability would be almost zero"
   ]
  },
  {
   "cell_type": "markdown",
   "id": "2d23c513",
   "metadata": {},
   "source": [
    "## Q5:\n",
    "The frequency-based probability might introduce zeros when multiplying the probabilities, leading to a failure in preserving the information contributed by the non-zero probabilities. Therefore, a smoothing approach, for example, the Additive Smoothing, must be adopted to counter this problem.\n",
    "<br/>\n",
    "**Additive Smoothing** is a technique to smooth categorical data. This technique is introduced to solve the problem of *zero probability*. A small-sample correction, or pseudo-count, will be incorporated in every probability estimate."
   ]
  },
  {
   "cell_type": "markdown",
   "id": "6dfc37c1",
   "metadata": {},
   "source": [
    "## Q7:\n",
    "* **Precision**:\n",
    "    * $$\\frac{TP}{TP + FP}$$\n",
    "    * Precision can be thought of as a measure of a classifiers exactness. A low precision, indicates a large number of False Positives.\n",
    "\n",
    "* **Recall**:\n",
    "    * $$\\frac{TP}{TP + FN}$$\n",
    "    * It is also called Sensitivity\n",
    "    * Recall can be thought of as a measure of a classifiers completeness. A low recall indicates many False Negatives."
   ]
  },
  {
   "cell_type": "markdown",
   "id": "0c201081",
   "metadata": {},
   "source": [
    "مشاهده می‌شود که «صحت» کلاس 2 نسبت به «پوشش» آن کم‌تر است. دلیل این امر این است که این طبقه‌بند، تعداد زیادی از آگهی های داده تست را در طبقه 2‌ قرار داده، در حالی که مربوط به آن نبوده‌اند (پس صحت کاهش می‌یابد). با این حال، تعداد زیادی از آگهی هایی را که مربوط به این طبقه بوده‌اند، در همین طبقه قرار داده است (پس پوشش افزایش می‌یابد). در واقع می‌توان گفت که این طبقه‌بند نسبت به کلاس گفته‌شده دارای مقداری بایاس است. این موضوع باعث کاهش دقت طبقه‌بند شده‌است. پس می‌توان گفت که مقادیر صحت و پوشش هر کلاس به تنهایی برای ارزیابی مدل کافی نیستند و هر کدام بخشی از عملکرد مدل را نشان می‌دهند\n"
   ]
  },
  {
   "cell_type": "markdown",
   "id": "1af86d3f",
   "metadata": {},
   "source": [
    "## Q8:\n",
    "<div align=center><img src='harmonic.png'></div><br />\n",
    "<div align=right>\n",
    "میانگین هم‌ساز یا هارمونیک که از رابطه شکل بالا محاسبه می‌شود، معمولاً هنگامی کاربرد دارد که محاسبه میانگین نرخ‌ها اهمیت داشته باشد. در موارد خاص که فقط دو عدد وجود دارد، میانگین هارمونیک را می‌توان از رابطه معیار اف-۱ به دست آورد. می‌توان ثابت کرد که میانگین هم‌ساز همواره کوچک‌تر یا مساوی میانگین حسابی است. همچنین، از این میانگین تنها برای اعداد مثبت استفاده می‌شود. اهمیت استفاده از این روش میانگین‌گیری را می‌توان در یک مثال بررسی کرد: فرض کنید که برای یک کلاس، صحت حدود ۱۰۰ درصد و پوشش حدود صفر به دست بیاید. یعنی طبقه‌بند تعداد کمی از آگهی ها را در کلاس موردنظر قرار داده، با این حال همان‌هایی را هم که قرار داده، درست بوده‌اند. مشاهده می‌شود که میانگین حسابی مقادیر صحت و پوشش حدود ۵۰ درصد به دست می‌آید، در حالی که معیار اف-۱ این میانگین را حدود صفر نشان می‌دهد! بنابراین، اگر با میانگین حسابی عملکرد طبقه‌بند را ارزیابی می‌کردیم، به اشتباه می‌افتادیم. به طور کلی می‌توان گفت که میانگین هم‌ساز، مقادیر بیش از حد را در نظر نگرفته و یک خروجی متعادل می‌دهد\n",
    "</div>\n",
    "<div align=center><img src='f1.png'></div><br />"
   ]
  },
  {
   "cell_type": "markdown",
   "id": "5ce01cd5",
   "metadata": {},
   "source": [
    "<div align=left> </div> \n",
    "\n",
    "## Q9:\n",
    "\n",
    "* Macro:\n",
    "    * میانگین حسابی مقادیر اف-۱ کلاس‌ها\n",
    "* Micro:\n",
    "    * برابر با همان دقت است یعنی تعداد طبقه‌بندی‌های درست تقسیم بر تعداد کل نمونه‌ها\n",
    "* Weighted:\n",
    "    * میانگین وزن‌دار مقادیر اف-۱ کلاس‌ها که در آن وزن هر مقدار را می‌توان نسبت تعداد نمونه‌های آن کلاس به تعداد کل نمونه‌ها در نظر گرفت\n"
   ]
  },
  {
   "cell_type": "markdown",
   "id": "c7d2712c",
   "metadata": {},
   "source": [
    "<div align=left> </div> \n",
    "\n",
    "## Q11:\n",
    "* Without Additive Smoothing, there were some words in the *testset* that didn't exist in the *trainset* & $\\log(0) = -\\infty$ so this lead us to wrong labeling.\n",
    "* With Additive Smoothing this problem was solved because for those words that didn't exist in the *trainset*, we used $\\alpha = 1$. Additive Smoothing really helped us with predicting because we are not going to lose probability if the word did not exist in the train set."
   ]
  },
  {
   "cell_type": "code",
   "execution_count": 36,
   "id": "06dfaf62",
   "metadata": {},
   "outputs": [],
   "source": [
    "reverse = {}\n",
    "for key, value in categories.items():\n",
    "    reverse[value] = key"
   ]
  },
  {
   "cell_type": "markdown",
   "id": "4f451191",
   "metadata": {},
   "source": [
    "## Q12:"
   ]
  },
  {
   "cell_type": "code",
   "execution_count": 44,
   "id": "bdeeb7f8",
   "metadata": {},
   "outputs": [],
   "source": [
    "predicted_label = []\n",
    "actual_label = []\n",
    "num_iteration = []\n",
    "\n",
    "for i in range(len(predictedc)):\n",
    "    if(predictedc[i] != test_categories[i]):\n",
    "        predicted_label.append(predictedc[i])\n",
    "        actual_label.append(test_categories[i])\n",
    "        num_iteration.append(i)"
   ]
  },
  {
   "cell_type": "code",
   "execution_count": 46,
   "id": "5b5f39d0",
   "metadata": {},
   "outputs": [
    {
     "name": "stdout",
     "output_type": "stream",
     "text": [
      "# 1\n",
      "['سیپوراکس', 'میکرو', 'مک', 'جی', 'ال', 'سرامیک', 'سرا', 'کاهنده', 'نیترات', 'نیتریت', 'اکواریوم', 'درجه', 'سیپوراکس']\n",
      "unfortunately labeled:  for-the-home\n",
      "Actual label:  personal\n",
      "\n",
      "# 2\n",
      "['عینک', 'آفتاب', '١٠٠', '\\u200f', 'UV', 'Protection', 'عینک', 'آفتاب']\n",
      "unfortunately labeled:  electronic-devices\n",
      "Actual label:  businesses\n",
      "\n",
      "# 3\n",
      "['جنس', 'اهن', 'کار', 'دست', 'عرضه', 'صورت', 'عمده', 'تک', 'موتور', 'تزیین']\n",
      "unfortunately labeled:  electronic-devices\n",
      "Actual label:  vehicles\n",
      "\n",
      "# 4\n",
      "['اصل', 'المان', 'سایز', '۱۵', 'مقاوم', 'اچارشلاقی', 'HEYCOالمان']\n",
      "unfortunately labeled:  leisure-hobbies\n",
      "Actual label:  personal\n",
      "\n",
      "# 5\n",
      "['سلام', 'تلفکس', 'پاناسونیک', 'تمیز', 'کار', 'فروش', 'تلفکس']\n",
      "unfortunately labeled:  businesses\n",
      "Actual label:  personal\n",
      "\n"
     ]
    }
   ],
   "source": [
    "\n",
    "for i in range(5):\n",
    "    print(\"#\",i+1)\n",
    "    print(testdf['combined'][num_iteration[i]])\n",
    "    print(\"unfortunately labeled: \", reverse[predicted_label[num_iteration[i]]])\n",
    "    print(\"Actual label: \", reverse[actual_label[num_iteration[i]]])\n",
    "    print()"
   ]
  }
 ],
 "metadata": {
  "kernelspec": {
   "display_name": "Python 3 (ipykernel)",
   "language": "python",
   "name": "python3"
  },
  "language_info": {
   "codemirror_mode": {
    "name": "ipython",
    "version": 3
   },
   "file_extension": ".py",
   "mimetype": "text/x-python",
   "name": "python",
   "nbconvert_exporter": "python",
   "pygments_lexer": "ipython3",
   "version": "3.9.6"
  }
 },
 "nbformat": 4,
 "nbformat_minor": 5
}
